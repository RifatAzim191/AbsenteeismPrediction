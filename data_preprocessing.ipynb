{
 "cells": [
  {
   "cell_type": "code",
   "execution_count": 1,
   "metadata": {},
   "outputs": [],
   "source": [
    "#Importing libreries\n",
    "\n",
    "import pandas as pd \n",
    "import numpy as np"
   ]
  },
  {
   "cell_type": "code",
   "execution_count": 26,
   "metadata": {},
   "outputs": [],
   "source": [
    "# Reading dataset\n",
    "read_file = pd.read_excel (\"Dataset\\dataset.xlsx\") \n",
    "\n",
    "# Converting to CSV\n",
    "read_file.to_csv (\"Dataset\\dataset.csv\", \n",
    "\t\t\t\tindex = None, \n",
    "\t\t\t\theader=True) \n",
    "\t\n",
    "# reading CSV and converting to dataframe object\n",
    "df = pd.DataFrame(pd.read_csv(\"Dataset\\dataset.csv\")) "
   ]
  },
  {
   "cell_type": "code",
   "execution_count": 27,
   "metadata": {},
   "outputs": [
    {
     "name": "stdout",
     "output_type": "stream",
     "text": [
      "        ID Gender PHI MHI FI LD SCI UE TI  APM\n",
      "0  1711182      m   y   n  y  y   n  y  n    5\n",
      "1  2312321      f   n   n  y  y   y  y  n    4\n",
      "2  1510645      f   y   y  n  n   y  n  y    1\n",
      "3  2311271      m   y   n  y  n   y  y  y    5\n",
      "4  2211591      m   y   y  n  n   y  n  n    3\n"
     ]
    }
   ],
   "source": [
    "# dataset preview\n",
    "print(df.head())"
   ]
  },
  {
   "cell_type": "markdown",
   "metadata": {},
   "source": [
    ">Binary Encoding"
   ]
  },
  {
   "cell_type": "code",
   "execution_count": 28,
   "metadata": {},
   "outputs": [
    {
     "name": "stdout",
     "output_type": "stream",
     "text": [
      "        ID Gender  PHI  MHI  FI  LD  SCI  UE  TI  APM\n",
      "0  1711182      m    1    0   1   1    0   1   0    5\n",
      "1  2312321      f    0    0   1   1    1   1   0    4\n",
      "2  1510645      f    1    1   0   0    1   0   1    1\n",
      "3  2311271      m    1    0   1   0    1   1   1    5\n",
      "4  2211591      m    1    1   0   0    1   0   0    3\n"
     ]
    }
   ],
   "source": [
    "# Converting 'y' to 1 and 'n' to 0 for selected columns\n",
    "cols_to_encode = ['PHI', 'MHI', 'FI', 'LD', 'SCI', 'UE', 'TI']\n",
    "df[cols_to_encode] = df[cols_to_encode].replace({'y': 1, 'n': 0})\n",
    "print(df.head())"
   ]
  },
  {
   "cell_type": "code",
   "execution_count": 34,
   "metadata": {},
   "outputs": [],
   "source": [
    "#Saving this Dataframe as Encoded Dataset\n",
    "df.to_csv('Dataset/encoded_dataset.csv', index=False)"
   ]
  },
  {
   "cell_type": "code",
   "execution_count": 35,
   "metadata": {},
   "outputs": [
    {
     "data": {
      "text/plain": [
       "count    2500.000000\n",
       "mean        3.165200\n",
       "std         1.708765\n",
       "min         1.000000\n",
       "25%         2.000000\n",
       "50%         3.000000\n",
       "75%         4.000000\n",
       "max        13.000000\n",
       "Name: APM, dtype: float64"
      ]
     },
     "execution_count": 35,
     "metadata": {},
     "output_type": "execute_result"
    }
   ],
   "source": [
    "last_column = 'APM'\n",
    "df[last_column].describe()"
   ]
  },
  {
   "cell_type": "code",
   "execution_count": 36,
   "metadata": {},
   "outputs": [
    {
     "name": "stdout",
     "output_type": "stream",
     "text": [
      "<class 'pandas.core.frame.DataFrame'>\n",
      "RangeIndex: 2500 entries, 0 to 2499\n",
      "Data columns (total 10 columns):\n",
      " #   Column  Non-Null Count  Dtype \n",
      "---  ------  --------------  ----- \n",
      " 0   ID      2500 non-null   int64 \n",
      " 1   Gender  2500 non-null   object\n",
      " 2   PHI     2500 non-null   int64 \n",
      " 3   MHI     2500 non-null   int64 \n",
      " 4   FI      2500 non-null   int64 \n",
      " 5   LD      2500 non-null   int64 \n",
      " 6   SCI     2500 non-null   int64 \n",
      " 7   UE      2500 non-null   int64 \n",
      " 8   TI      2500 non-null   int64 \n",
      " 9   APM     2500 non-null   int64 \n",
      "dtypes: int64(9), object(1)\n",
      "memory usage: 195.4+ KB\n",
      "None\n"
     ]
    }
   ],
   "source": [
    "print(df.info())"
   ]
  },
  {
   "cell_type": "code",
   "execution_count": 37,
   "metadata": {},
   "outputs": [
    {
     "data": {
      "text/plain": [
       "Index(['ID', 'Gender', 'PHI', 'MHI', 'FI', 'LD', 'SCI', 'UE', 'TI', 'APM'], dtype='object')"
      ]
     },
     "execution_count": 37,
     "metadata": {},
     "output_type": "execute_result"
    }
   ],
   "source": [
    "df.columns"
   ]
  },
  {
   "cell_type": "code",
   "execution_count": 38,
   "metadata": {},
   "outputs": [
    {
     "name": "stdout",
     "output_type": "stream",
     "text": [
      "Null value counts for each column:\n",
      "ID        0\n",
      "Gender    0\n",
      "PHI       0\n",
      "MHI       0\n",
      "FI        0\n",
      "LD        0\n",
      "SCI       0\n",
      "UE        0\n",
      "TI        0\n",
      "APM       0\n",
      "dtype: int64\n"
     ]
    }
   ],
   "source": [
    "# Checking for null values in each column\n",
    "null_counts = df.isnull().sum()\n",
    "\n",
    "# Displaying the count of null values for each column\n",
    "print(\"Null value counts for each column:\")\n",
    "print(null_counts)"
   ]
  },
  {
   "cell_type": "markdown",
   "metadata": {},
   "source": [
    "No null values :) "
   ]
  },
  {
   "cell_type": "code",
   "execution_count": 39,
   "metadata": {},
   "outputs": [
    {
     "name": "stdout",
     "output_type": "stream",
     "text": [
      "Missing value counts for each column:\n",
      "ID        0\n",
      "Gender    0\n",
      "PHI       0\n",
      "MHI       0\n",
      "FI        0\n",
      "LD        0\n",
      "SCI       0\n",
      "UE        0\n",
      "TI        0\n",
      "APM       0\n",
      "dtype: int64\n"
     ]
    }
   ],
   "source": [
    "# Checking for missing values in each column\n",
    "missing_counts = df.isna().sum()\n",
    "\n",
    "# Displaying the count of missing values for each column\n",
    "print(\"Missing value counts for each column:\")\n",
    "print(missing_counts)"
   ]
  },
  {
   "cell_type": "markdown",
   "metadata": {},
   "source": [
    "No missing values :)"
   ]
  }
 ],
 "metadata": {
  "kernelspec": {
   "display_name": "Python 3",
   "language": "python",
   "name": "python3"
  },
  "language_info": {
   "codemirror_mode": {
    "name": "ipython",
    "version": 3
   },
   "file_extension": ".py",
   "mimetype": "text/x-python",
   "name": "python",
   "nbconvert_exporter": "python",
   "pygments_lexer": "ipython3",
   "version": "3.11.1"
  }
 },
 "nbformat": 4,
 "nbformat_minor": 2
}
